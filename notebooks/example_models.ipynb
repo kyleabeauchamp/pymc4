{
 "cells": [
  {
   "cell_type": "code",
   "execution_count": 1,
   "metadata": {},
   "outputs": [],
   "source": [
    "import pymc4 as pm\n",
    "import tensorflow as tf\n",
    "import numpy as np\n",
    "import matplotlib.pyplot as plt\n",
    "from tensorflow.compat.v1 import ConfigProto, InteractiveSession, OptimizerOptions"
   ]
  },
  {
   "cell_type": "code",
   "execution_count": 2,
   "metadata": {},
   "outputs": [],
   "source": [
    "config = ConfigProto()\n",
    "config.graph_options.optimizer_options.global_jit_level = (\n",
    "    OptimizerOptions.ON_1)\n",
    "config.intra_op_parallelism_threads = 1\n",
    "config.inter_op_parallelism_threads = 1\n",
    "sess = InteractiveSession(config=config)"
   ]
  },
  {
   "cell_type": "markdown",
   "metadata": {},
   "source": [
    "# Linear Regression"
   ]
  },
  {
   "cell_type": "code",
   "execution_count": 3,
   "metadata": {},
   "outputs": [
    {
     "data": {
      "text/plain": [
       "{'sigma': 5.4259596,\n",
       " 'Intercept': -19.606337,\n",
       " 'weight': 0.88683015,\n",
       " 'y': array([-27.669046 , -17.409462 , -19.50711  , -26.763836 , -35.389275 ,\n",
       "        -24.28523  , -23.41587  , -11.84641  , -24.269382 , -27.037067 ,\n",
       "        -15.957651 , -15.234988 , -22.83929  , -13.1659155, -29.071405 ,\n",
       "        -44.062855 , -21.706211 , -16.516382 , -24.450031 , -27.92798  ,\n",
       "        -25.726562 , -17.163452 , -19.93773  , -28.906307 , -24.181278 ,\n",
       "        -24.30494  , -30.08627  , -19.768103 , -14.94397  , -29.438423 ,\n",
       "        -30.446266 , -19.061699 , -21.101969 , -15.306091 , -19.220139 ,\n",
       "        -11.044308 , -24.888615 , -27.494587 , -17.356228 , -24.940668 ,\n",
       "        -23.00938  , -17.374477 ,  -6.4632473, -18.765148 , -29.674885 ,\n",
       "        -15.516668 , -22.140575 , -19.773577 , -19.246725 , -23.603806 ,\n",
       "        -27.878452 , -22.114254 , -22.417639 , -21.01201  , -32.012474 ,\n",
       "        -14.785548 , -21.254183 , -10.701466 , -12.434264 , -18.677904 ,\n",
       "         -9.471031 , -18.499367 , -19.517153 , -17.48897  , -15.562728 ,\n",
       "        -12.706556 , -20.991957 , -10.264519 , -15.461434 , -19.666574 ,\n",
       "        -11.673897 , -26.8227   , -21.547611 , -16.236994 , -13.079298 ,\n",
       "        -19.68524  , -10.414124 , -17.590408 , -18.322544 , -14.407899 ,\n",
       "        -21.957733 , -16.139688 , -16.577187 ,  -7.037862 , -18.942118 ,\n",
       "         -7.217559 , -13.378113 , -19.453169 , -19.928297 , -24.223637 ,\n",
       "        -23.965225 , -22.915157 , -16.345272 , -17.297302 , -26.04987  ,\n",
       "        -12.499421 , -11.951362 , -19.103193 , -15.189196 , -22.223782 ],\n",
       "       dtype=float32)}"
      ]
     },
     "execution_count": 3,
     "metadata": {},
     "output_type": "execute_result"
    }
   ],
   "source": [
    "# Logp calculation for linear regression \n",
    "@pm.model\n",
    "def linreg(sd_prior='half_normal', n_points = 100):    \n",
    "    # Define priors\n",
    "    sigma = pm.HalfNormal('sigma', scale = 10)\n",
    "    intercept = pm.Normal('Intercept', 0, scale=10)\n",
    "    x_coeff = pm.Normal('weight', 0, scale = 5)\n",
    "    x = np.linspace(-5, 5, n_points)\n",
    "    \n",
    "    # Define likelihood\n",
    "    y = pm.Normal('y', loc=intercept + x_coeff * x, scale=sigma)\n",
    "    \n",
    "    \n",
    "model = linreg.configure()\n",
    "\n",
    "forward_sample = sess.run(model.forward_sample())\n",
    "\n",
    "forward_sample"
   ]
  },
  {
   "cell_type": "code",
   "execution_count": 4,
   "metadata": {},
   "outputs": [
    {
     "data": {
      "text/plain": [
       "<matplotlib.collections.PathCollection at 0xb3fc424a8>"
      ]
     },
     "execution_count": 4,
     "metadata": {},
     "output_type": "execute_result"
    },
    {
     "data": {
      "image/png": "[encoded data removed]",
      "text/plain": [
       "<Figure size 432x288 with 1 Axes>"
      ]
     },
     "metadata": {
      "needs_background": "light"
     },
     "output_type": "display_data"
    }
   ],
   "source": [
    "plt.scatter(np.linspace(-5, 5, 100), forward_sample['y'])"
   ]
  },
  {
   "cell_type": "code",
   "execution_count": 5,
   "metadata": {},
   "outputs": [],
   "source": [
    "func = model.make_log_prob_function()\n",
    "sigma = tf.placeholder(tf.float32)\n",
    "intercept = tf.placeholder(tf.float32)\n",
    "x_coeff = tf.placeholder(tf.float32)\n",
    "y = tf.placeholder(tf.float32, shape=(100,))\n",
    "logp = func(sigma, intercept, x_coeff, y)\n"
   ]
  },
  {
   "cell_type": "code",
   "execution_count": 6,
   "metadata": {},
   "outputs": [
    {
     "data": {
      "text/plain": [
       "-330.91013"
      ]
     },
     "execution_count": 6,
     "metadata": {},
     "output_type": "execute_result"
    }
   ],
   "source": [
    "feed_dict = {sigma: forward_sample['sigma'], \n",
    "            intercept: forward_sample['Intercept'], \n",
    "            x_coeff: forward_sample['weight'], \n",
    "            y: forward_sample['y']}\n",
    "\n",
    "sess.run(logp, feed_dict=feed_dict)"
   ]
  },
  {
   "cell_type": "code",
   "execution_count": 7,
   "metadata": {
    "scrolled": false
   },
   "outputs": [
    {
     "name": "stderr",
     "output_type": "stream",
     "text": [
      "/anaconda3/envs/GSoC/lib/python3.6/subprocess.py:766: ResourceWarning: subprocess 3121 is still running\n",
      "  ResourceWarning, source=self)\n",
      "/anaconda3/envs/GSoC/lib/python3.6/site-packages/theano/misc/cpucount.py:48: ResourceWarning: unclosed file <_io.TextIOWrapper name=59 encoding='UTF-8'>\n",
      "  num = int(os.popen('sysctl -n hw.ncpu').read())\n",
      "WARNING (theano.configdefaults): install mkl with `conda install mkl-service`: No module named 'mkl'\n",
      "/anaconda3/envs/GSoC/lib/python3.6/site-packages/theano/tests/main.py:6: DeprecationWarning: Importing from numpy.testing.nosetester is deprecated, import from numpy.testing instead.\n",
      "  from numpy.testing.nosetester import NoseTester\n"
     ]
    }
   ],
   "source": [
    "import pymc3 as pm3"
   ]
  },
  {
   "cell_type": "code",
   "execution_count": 8,
   "metadata": {
    "scrolled": false
   },
   "outputs": [
    {
     "name": "stderr",
     "output_type": "stream",
     "text": [
      "/anaconda3/envs/GSoC/lib/python3.6/site-packages/theano/gof/cmodule.py:274: DeprecationWarning: SO is deprecated, use EXT_SUFFIX\n",
      "  dist_suffix = distutils.sysconfig.get_config_var(\"SO\")\n",
      "/anaconda3/envs/GSoC/lib/python3.6/site-packages/theano/gof/cmodule.py:274: DeprecationWarning: SO is deprecated, use EXT_SUFFIX\n",
      "  dist_suffix = distutils.sysconfig.get_config_var(\"SO\")\n",
      "/anaconda3/envs/GSoC/lib/python3.6/site-packages/theano/gof/cmodule.py:274: DeprecationWarning: SO is deprecated, use EXT_SUFFIX\n",
      "  dist_suffix = distutils.sysconfig.get_config_var(\"SO\")\n",
      "/anaconda3/envs/GSoC/lib/python3.6/site-packages/theano/gof/cmodule.py:274: DeprecationWarning: SO is deprecated, use EXT_SUFFIX\n",
      "  dist_suffix = distutils.sysconfig.get_config_var(\"SO\")\n",
      "/anaconda3/envs/GSoC/lib/python3.6/site-packages/theano/gof/cmodule.py:274: DeprecationWarning: SO is deprecated, use EXT_SUFFIX\n",
      "  dist_suffix = distutils.sysconfig.get_config_var(\"SO\")\n",
      "/anaconda3/envs/GSoC/lib/python3.6/site-packages/theano/gof/cmodule.py:274: DeprecationWarning: SO is deprecated, use EXT_SUFFIX\n",
      "  dist_suffix = distutils.sysconfig.get_config_var(\"SO\")\n",
      "/anaconda3/envs/GSoC/lib/python3.6/site-packages/theano/gof/cmodule.py:274: DeprecationWarning: SO is deprecated, use EXT_SUFFIX\n",
      "  dist_suffix = distutils.sysconfig.get_config_var(\"SO\")\n",
      "/anaconda3/envs/GSoC/lib/python3.6/site-packages/theano/gof/cmodule.py:274: DeprecationWarning: SO is deprecated, use EXT_SUFFIX\n",
      "  dist_suffix = distutils.sysconfig.get_config_var(\"SO\")\n",
      "/anaconda3/envs/GSoC/lib/python3.6/site-packages/theano/gof/cmodule.py:274: DeprecationWarning: SO is deprecated, use EXT_SUFFIX\n",
      "  dist_suffix = distutils.sysconfig.get_config_var(\"SO\")\n",
      "/anaconda3/envs/GSoC/lib/python3.6/site-packages/theano/gof/cmodule.py:274: DeprecationWarning: SO is deprecated, use EXT_SUFFIX\n",
      "  dist_suffix = distutils.sysconfig.get_config_var(\"SO\")\n",
      "/anaconda3/envs/GSoC/lib/python3.6/site-packages/theano/gof/cmodule.py:274: DeprecationWarning: SO is deprecated, use EXT_SUFFIX\n",
      "  dist_suffix = distutils.sysconfig.get_config_var(\"SO\")\n",
      "/anaconda3/envs/GSoC/lib/python3.6/site-packages/theano/gof/cmodule.py:274: DeprecationWarning: SO is deprecated, use EXT_SUFFIX\n",
      "  dist_suffix = distutils.sysconfig.get_config_var(\"SO\")\n",
      "/anaconda3/envs/GSoC/lib/python3.6/site-packages/theano/gof/cmodule.py:274: DeprecationWarning: SO is deprecated, use EXT_SUFFIX\n",
      "  dist_suffix = distutils.sysconfig.get_config_var(\"SO\")\n",
      "/anaconda3/envs/GSoC/lib/python3.6/site-packages/theano/gof/cmodule.py:274: DeprecationWarning: SO is deprecated, use EXT_SUFFIX\n",
      "  dist_suffix = distutils.sysconfig.get_config_var(\"SO\")\n",
      "/anaconda3/envs/GSoC/lib/python3.6/site-packages/theano/gof/cmodule.py:274: DeprecationWarning: SO is deprecated, use EXT_SUFFIX\n",
      "  dist_suffix = distutils.sysconfig.get_config_var(\"SO\")\n",
      "/anaconda3/envs/GSoC/lib/python3.6/site-packages/theano/gof/cmodule.py:274: DeprecationWarning: SO is deprecated, use EXT_SUFFIX\n",
      "  dist_suffix = distutils.sysconfig.get_config_var(\"SO\")\n",
      "/anaconda3/envs/GSoC/lib/python3.6/site-packages/theano/gof/cmodule.py:274: DeprecationWarning: SO is deprecated, use EXT_SUFFIX\n",
      "  dist_suffix = distutils.sysconfig.get_config_var(\"SO\")\n",
      "/anaconda3/envs/GSoC/lib/python3.6/site-packages/theano/gof/cmodule.py:274: DeprecationWarning: SO is deprecated, use EXT_SUFFIX\n",
      "  dist_suffix = distutils.sysconfig.get_config_var(\"SO\")\n",
      "/anaconda3/envs/GSoC/lib/python3.6/site-packages/theano/gof/cmodule.py:274: DeprecationWarning: SO is deprecated, use EXT_SUFFIX\n",
      "  dist_suffix = distutils.sysconfig.get_config_var(\"SO\")\n",
      "/anaconda3/envs/GSoC/lib/python3.6/site-packages/theano/gof/cmodule.py:274: DeprecationWarning: SO is deprecated, use EXT_SUFFIX\n",
      "  dist_suffix = distutils.sysconfig.get_config_var(\"SO\")\n",
      "/anaconda3/envs/GSoC/lib/python3.6/site-packages/theano/gof/cmodule.py:274: DeprecationWarning: SO is deprecated, use EXT_SUFFIX\n",
      "  dist_suffix = distutils.sysconfig.get_config_var(\"SO\")\n",
      "/anaconda3/envs/GSoC/lib/python3.6/site-packages/theano/gof/cmodule.py:274: DeprecationWarning: SO is deprecated, use EXT_SUFFIX\n",
      "  dist_suffix = distutils.sysconfig.get_config_var(\"SO\")\n",
      "/anaconda3/envs/GSoC/lib/python3.6/site-packages/theano/gof/cmodule.py:274: DeprecationWarning: SO is deprecated, use EXT_SUFFIX\n",
      "  dist_suffix = distutils.sysconfig.get_config_var(\"SO\")\n",
      "/anaconda3/envs/GSoC/lib/python3.6/site-packages/theano/gof/cmodule.py:274: DeprecationWarning: SO is deprecated, use EXT_SUFFIX\n",
      "  dist_suffix = distutils.sysconfig.get_config_var(\"SO\")\n",
      "/anaconda3/envs/GSoC/lib/python3.6/site-packages/theano/gof/cmodule.py:274: DeprecationWarning: SO is deprecated, use EXT_SUFFIX\n",
      "  dist_suffix = distutils.sysconfig.get_config_var(\"SO\")\n",
      "/anaconda3/envs/GSoC/lib/python3.6/site-packages/theano/gof/cmodule.py:274: DeprecationWarning: SO is deprecated, use EXT_SUFFIX\n",
      "  dist_suffix = distutils.sysconfig.get_config_var(\"SO\")\n",
      "/anaconda3/envs/GSoC/lib/python3.6/site-packages/theano/gof/cmodule.py:274: DeprecationWarning: SO is deprecated, use EXT_SUFFIX\n",
      "  dist_suffix = distutils.sysconfig.get_config_var(\"SO\")\n",
      "/anaconda3/envs/GSoC/lib/python3.6/site-packages/theano/gof/cmodule.py:274: DeprecationWarning: SO is deprecated, use EXT_SUFFIX\n",
      "  dist_suffix = distutils.sysconfig.get_config_var(\"SO\")\n",
      "/anaconda3/envs/GSoC/lib/python3.6/site-packages/theano/gof/cmodule.py:274: DeprecationWarning: SO is deprecated, use EXT_SUFFIX\n",
      "  dist_suffix = distutils.sysconfig.get_config_var(\"SO\")\n",
      "/anaconda3/envs/GSoC/lib/python3.6/site-packages/theano/gof/cmodule.py:274: DeprecationWarning: SO is deprecated, use EXT_SUFFIX\n",
      "  dist_suffix = distutils.sysconfig.get_config_var(\"SO\")\n",
      "/anaconda3/envs/GSoC/lib/python3.6/site-packages/theano/gof/cmodule.py:274: DeprecationWarning: SO is deprecated, use EXT_SUFFIX\n",
      "  dist_suffix = distutils.sysconfig.get_config_var(\"SO\")\n",
      "/anaconda3/envs/GSoC/lib/python3.6/site-packages/theano/gof/cmodule.py:274: DeprecationWarning: SO is deprecated, use EXT_SUFFIX\n",
      "  dist_suffix = distutils.sysconfig.get_config_var(\"SO\")\n",
      "/anaconda3/envs/GSoC/lib/python3.6/site-packages/theano/gof/cmodule.py:274: DeprecationWarning: SO is deprecated, use EXT_SUFFIX\n",
      "  dist_suffix = distutils.sysconfig.get_config_var(\"SO\")\n",
      "/anaconda3/envs/GSoC/lib/python3.6/site-packages/theano/gof/cmodule.py:274: DeprecationWarning: SO is deprecated, use EXT_SUFFIX\n",
      "  dist_suffix = distutils.sysconfig.get_config_var(\"SO\")\n",
      "/anaconda3/envs/GSoC/lib/python3.6/site-packages/theano/gof/cmodule.py:274: DeprecationWarning: SO is deprecated, use EXT_SUFFIX\n",
      "  dist_suffix = distutils.sysconfig.get_config_var(\"SO\")\n",
      "/anaconda3/envs/GSoC/lib/python3.6/site-packages/theano/gof/cmodule.py:274: DeprecationWarning: SO is deprecated, use EXT_SUFFIX\n",
      "  dist_suffix = distutils.sysconfig.get_config_var(\"SO\")\n",
      "/anaconda3/envs/GSoC/lib/python3.6/site-packages/theano/gof/cmodule.py:274: DeprecationWarning: SO is deprecated, use EXT_SUFFIX\n",
      "  dist_suffix = distutils.sysconfig.get_config_var(\"SO\")\n"
     ]
    },
    {
     "data": {
      "text/plain": [
       "array(-330.91014434)"
      ]
     },
     "execution_count": 8,
     "metadata": {},
     "output_type": "execute_result"
    }
   ],
   "source": [
    "n_points = 100\n",
    "with pm3.Model() as model3: \n",
    "    # Define priors\n",
    "    sigma = pm3.HalfNormal('sigma', sd = 10, observed=forward_sample['sigma'])\n",
    "    intercept = pm3.Normal('Intercept', 0, 10, observed=forward_sample['Intercept'])\n",
    "    x_coeff = pm3.Normal('weight', 0, 5, observed=forward_sample['weight'])\n",
    "    x = np.linspace(-5, 5, n_points)\n",
    "    \n",
    "    # Define likelihood\n",
    "    y = pm3.Normal('y', intercept + x_coeff * x, sigma, observed=forward_sample['y'])\n",
    "    \n",
    "model3.logp()"
   ]
  },
  {
   "cell_type": "markdown",
   "metadata": {},
   "source": [
    "# Centered-Eight "
   ]
  },
  {
   "cell_type": "code",
   "execution_count": 9,
   "metadata": {},
   "outputs": [
    {
     "data": {
      "text/plain": [
       "{'mu': 0.6858591,\n",
       " 'tau': 2.3695068,\n",
       " 'theta': array([-5.3857846 , -1.3498095 ,  0.03760004,  4.108085  , -2.9670043 ,\n",
       "        -1.5690862 , -1.3381232 ,  1.1491148 ], dtype=float32),\n",
       " 'y': array([ 10.2343025 , -15.476729  ,  -8.506271  ,   0.61995983,\n",
       "        -13.0782585 ,  -7.444225  , -10.934603  ,   8.229874  ],\n",
       "       dtype=float32)}"
      ]
     },
     "execution_count": 9,
     "metadata": {},
     "output_type": "execute_result"
    }
   ],
   "source": [
    "schools = np.array([28.,  8., -3.,  7., -1.,  1., 18., 12.])\n",
    "sigma = tf.to_float(np.array([15., 10., 16., 11.,  9., 11., 10., 18.]))\n",
    "n_points = 8\n",
    "\n",
    "@pm.model\n",
    "def centered_eight(n_points = n_points):    \n",
    "    # Define priors\n",
    "    mu = pm.Normal('mu', loc = 0, scale = 5)\n",
    "    tau = pm.HalfCauchy('tau', loc = 0, scale = 5)\n",
    "    theta = pm.Normal('theta', loc = tf.fill([8], mu.as_tensor()), scale = tf.fill([8], tau.as_tensor()))\n",
    "    # Awkward syntax: Feature?\n",
    "    \n",
    "    # Define likelihood\n",
    "    y = pm.Normal('y', loc = theta, scale = sigma)\n",
    "    \n",
    "model = centered_eight.configure()\n",
    "\n",
    "forward_sample = sess.run(model.forward_sample())\n",
    "\n",
    "forward_sample"
   ]
  },
  {
   "cell_type": "code",
   "execution_count": 10,
   "metadata": {},
   "outputs": [],
   "source": [
    "func = model.make_log_prob_function()\n",
    "mu = tf.placeholder(tf.float32)\n",
    "tau = tf.placeholder(tf.float32)\n",
    "theta = tf.placeholder(tf.float32, shape=(n_points,))\n",
    "y = tf.placeholder(tf.float32, shape=(n_points,))\n",
    "logp = func(mu, tau, theta, y)"
   ]
  },
  {
   "cell_type": "code",
   "execution_count": 11,
   "metadata": {},
   "outputs": [
    {
     "data": {
      "text/plain": [
       "-58.20176"
      ]
     },
     "execution_count": 11,
     "metadata": {},
     "output_type": "execute_result"
    }
   ],
   "source": [
    "feed_dict = {mu: forward_sample['mu'], \n",
    "            tau: forward_sample['tau'], \n",
    "            theta: forward_sample['theta'], \n",
    "            y: schools}\n",
    "\n",
    "sess.run(logp, feed_dict=feed_dict)"
   ]
  },
  {
   "cell_type": "code",
   "execution_count": 12,
   "metadata": {
    "scrolled": false
   },
   "outputs": [
    {
     "name": "stderr",
     "output_type": "stream",
     "text": [
      "/anaconda3/envs/GSoC/lib/python3.6/site-packages/theano/gof/cmodule.py:274: DeprecationWarning: SO is deprecated, use EXT_SUFFIX\n",
      "  dist_suffix = distutils.sysconfig.get_config_var(\"SO\")\n",
      "/anaconda3/envs/GSoC/lib/python3.6/site-packages/theano/gof/cmodule.py:274: DeprecationWarning: SO is deprecated, use EXT_SUFFIX\n",
      "  dist_suffix = distutils.sysconfig.get_config_var(\"SO\")\n",
      "/anaconda3/envs/GSoC/lib/python3.6/site-packages/theano/gof/cmodule.py:274: DeprecationWarning: SO is deprecated, use EXT_SUFFIX\n",
      "  dist_suffix = distutils.sysconfig.get_config_var(\"SO\")\n",
      "/anaconda3/envs/GSoC/lib/python3.6/site-packages/theano/gof/cmodule.py:274: DeprecationWarning: SO is deprecated, use EXT_SUFFIX\n",
      "  dist_suffix = distutils.sysconfig.get_config_var(\"SO\")\n",
      "/anaconda3/envs/GSoC/lib/python3.6/site-packages/theano/gof/cmodule.py:274: DeprecationWarning: SO is deprecated, use EXT_SUFFIX\n",
      "  dist_suffix = distutils.sysconfig.get_config_var(\"SO\")\n",
      "/anaconda3/envs/GSoC/lib/python3.6/site-packages/theano/gof/cmodule.py:274: DeprecationWarning: SO is deprecated, use EXT_SUFFIX\n",
      "  dist_suffix = distutils.sysconfig.get_config_var(\"SO\")\n",
      "/anaconda3/envs/GSoC/lib/python3.6/site-packages/theano/gof/cmodule.py:274: DeprecationWarning: SO is deprecated, use EXT_SUFFIX\n",
      "  dist_suffix = distutils.sysconfig.get_config_var(\"SO\")\n",
      "/anaconda3/envs/GSoC/lib/python3.6/site-packages/theano/gof/cmodule.py:274: DeprecationWarning: SO is deprecated, use EXT_SUFFIX\n",
      "  dist_suffix = distutils.sysconfig.get_config_var(\"SO\")\n",
      "/anaconda3/envs/GSoC/lib/python3.6/site-packages/theano/gof/cmodule.py:274: DeprecationWarning: SO is deprecated, use EXT_SUFFIX\n",
      "  dist_suffix = distutils.sysconfig.get_config_var(\"SO\")\n",
      "/anaconda3/envs/GSoC/lib/python3.6/site-packages/theano/gof/cmodule.py:274: DeprecationWarning: SO is deprecated, use EXT_SUFFIX\n",
      "  dist_suffix = distutils.sysconfig.get_config_var(\"SO\")\n",
      "/anaconda3/envs/GSoC/lib/python3.6/site-packages/theano/gof/cmodule.py:274: DeprecationWarning: SO is deprecated, use EXT_SUFFIX\n",
      "  dist_suffix = distutils.sysconfig.get_config_var(\"SO\")\n",
      "/anaconda3/envs/GSoC/lib/python3.6/site-packages/theano/gof/cmodule.py:274: DeprecationWarning: SO is deprecated, use EXT_SUFFIX\n",
      "  dist_suffix = distutils.sysconfig.get_config_var(\"SO\")\n",
      "/anaconda3/envs/GSoC/lib/python3.6/site-packages/theano/gof/cmodule.py:274: DeprecationWarning: SO is deprecated, use EXT_SUFFIX\n",
      "  dist_suffix = distutils.sysconfig.get_config_var(\"SO\")\n",
      "/anaconda3/envs/GSoC/lib/python3.6/site-packages/theano/gof/cmodule.py:274: DeprecationWarning: SO is deprecated, use EXT_SUFFIX\n",
      "  dist_suffix = distutils.sysconfig.get_config_var(\"SO\")\n",
      "/anaconda3/envs/GSoC/lib/python3.6/site-packages/theano/gof/cmodule.py:274: DeprecationWarning: SO is deprecated, use EXT_SUFFIX\n",
      "  dist_suffix = distutils.sysconfig.get_config_var(\"SO\")\n",
      "/anaconda3/envs/GSoC/lib/python3.6/site-packages/theano/gof/cmodule.py:274: DeprecationWarning: SO is deprecated, use EXT_SUFFIX\n",
      "  dist_suffix = distutils.sysconfig.get_config_var(\"SO\")\n",
      "/anaconda3/envs/GSoC/lib/python3.6/site-packages/theano/gof/cmodule.py:274: DeprecationWarning: SO is deprecated, use EXT_SUFFIX\n",
      "  dist_suffix = distutils.sysconfig.get_config_var(\"SO\")\n",
      "/anaconda3/envs/GSoC/lib/python3.6/site-packages/theano/gof/cmodule.py:274: DeprecationWarning: SO is deprecated, use EXT_SUFFIX\n",
      "  dist_suffix = distutils.sysconfig.get_config_var(\"SO\")\n",
      "/anaconda3/envs/GSoC/lib/python3.6/site-packages/theano/gof/cmodule.py:274: DeprecationWarning: SO is deprecated, use EXT_SUFFIX\n",
      "  dist_suffix = distutils.sysconfig.get_config_var(\"SO\")\n"
     ]
    },
    {
     "data": {
      "text/plain": [
       "array(-58.20175703)"
      ]
     },
     "execution_count": 12,
     "metadata": {},
     "output_type": "execute_result"
    }
   ],
   "source": [
    "sigma = np.array([15., 10., 16., 11.,  9., 11., 10., 18.])\n",
    "with pm3.Model() as model3: \n",
    "    # Define priors\n",
    "    mu = pm3.Normal('mu', 0, sd = 5, observed=forward_sample['mu'])\n",
    "    tau = pm3.HalfCauchy('Intercept', 5, observed=forward_sample['tau'])\n",
    "    theta = pm3.Normal('weight', mu, tau, observed=forward_sample['theta'])\n",
    "    \n",
    "    # Define likelihood\n",
    "    y = pm3.Normal('y', theta, sigma, observed=schools)\n",
    "    \n",
    "model3.logp()"
   ]
  }
 ],
 "metadata": {
  "kernelspec": {
   "display_name": "Python 3",
   "language": "python",
   "name": "python3"
  },
  "language_info": {
   "codemirror_mode": {
    "name": "ipython",
    "version": 3
   },
   "file_extension": ".py",
   "mimetype": "text/x-python",
   "name": "python",
   "nbconvert_exporter": "python",
   "pygments_lexer": "ipython3",
   "version": "3.7.3"
  }
 },
 "nbformat": 4,
 "nbformat_minor": 2
}
